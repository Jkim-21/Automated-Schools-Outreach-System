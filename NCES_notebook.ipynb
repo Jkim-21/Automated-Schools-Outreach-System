{
 "cells": [
  {
   "cell_type": "code",
   "execution_count": 1,
   "metadata": {},
   "outputs": [
    {
     "name": "stderr",
     "output_type": "stream",
     "text": [
      "c:\\Users\\damie\\AppData\\Local\\Programs\\Python\\Python310\\lib\\site-packages\\openpyxl\\worksheet\\header_footer.py:48: UserWarning: Cannot parse header or footer so it will be ignored\n",
      "  warn(\"\"\"Cannot parse header or footer so it will be ignored\"\"\")\n"
     ]
    }
   ],
   "source": [
    "import pandas as pd\n",
    "\n",
    "#data only availible for fiscal year (2020 - 2021) \n",
    "\n",
    "#there may be new schools not represented - possibly find data base of new schools\n",
    "\n",
    "#state level\n",
    "\n",
    "df = pd.read_excel('data/stfis21_1a.xlsx')\n",
    "\n",
    "df = pd.DataFrame(df)"
   ]
  },
  {
   "cell_type": "code",
   "execution_count": 2,
   "metadata": {},
   "outputs": [],
   "source": [
    "df.head()\n",
    "headers = df.columns.values"
   ]
  },
  {
   "cell_type": "code",
   "execution_count": 3,
   "metadata": {},
   "outputs": [
    {
     "name": "stdout",
     "output_type": "stream",
     "text": [
      "['SURVYEAR' 'FIPS' 'STABR' 'STNAME' 'R1A' 'R1B' 'R1C' 'R1D' 'R1E' 'R1F'\n",
      " 'R1G' 'R1H' 'R1I' 'R1J' 'R1K' 'R1L' 'R1M' 'R1N' 'STR1' 'R2' 'R3' 'R4A'\n",
      " 'R4B' 'R4C' 'R4D' 'STR4' 'R5' 'TR' 'E11' 'E12' 'E13' 'E14' 'E15' 'E16'\n",
      " 'E17' 'E18' 'STE1' 'E11A' 'E11B' 'E11C' 'E11D' 'E2' 'E212' 'E213' 'E214'\n",
      " 'E215' 'E216' 'E217' 'E218' 'TE21' 'E222' 'E223' 'E224' 'E225' 'E226'\n",
      " 'E227' 'E228' 'TE22' 'E232' 'E233' 'E234' 'E235' 'E236' 'E237' 'E238'\n",
      " 'TE23' 'E242' 'E243' 'E244' 'E245' 'E246' 'E247' 'E248' 'TE24' 'E252'\n",
      " 'E253' 'E254' 'E255' 'E256' 'E257' 'E258' 'TE25' 'E262' 'E263' 'E264'\n",
      " 'E265' 'E266' 'E267' 'E268' 'TE26' 'STE22' 'STE23' 'STE24' 'STE25'\n",
      " 'STE26' 'STE27' 'STE28' 'STE2T' 'E3A11' 'E3A12' 'E3A13' 'E3A14' 'E3A2'\n",
      " 'E3A16' 'E3A1' 'E3B11' 'E3B12' 'E3B13' 'E3B14' 'E3B2' 'E3B16' 'E3B1'\n",
      " 'STE3' 'E4A1' 'E4A2' 'E4B1' 'E4B2' 'E4C1' 'E4C2' 'E4D' 'E4E1' 'E4E2'\n",
      " 'STE4' 'TE5' 'E61' 'E62' 'E63' 'STE6' 'E7A1' 'E7A2' 'STE7' 'E81' 'E82'\n",
      " 'E9A' 'E9B' 'E9C' 'E9D' 'E91' 'STE9' 'TE10' 'TE11' 'X12C' 'X12D' 'X12E'\n",
      " 'X12F' 'TX12' 'NCE13' 'ADA' 'A14A' 'A14B' 'PPE15' 'MEMBR20' 'CE1' 'CE2'\n",
      " 'AR1' 'AR1A' 'AR1B' 'AR2' 'AR2A' 'AR3' 'AR6' 'AR6A' 'AR7' 'AR8' 'AE1'\n",
      " 'AE2' 'AE3' 'AE4' 'AE5' 'AE6' 'AE7' 'AE8']\n"
     ]
    }
   ],
   "source": [
    "print(headers)"
   ]
  },
  {
   "cell_type": "code",
   "execution_count": 8,
   "metadata": {},
   "outputs": [
    {
     "name": "stderr",
     "output_type": "stream",
     "text": [
      "C:\\Users\\damie\\AppData\\Local\\Temp\\ipykernel_11060\\3358612268.py:1: DtypeWarning: Columns (14,15,22,39,41,42) have mixed types. Specify dtype option on import or set low_memory=False.\n",
      "  direc = pd.read_csv('data/ccd_sch_029_2223_w_1a_083023.csv')\n"
     ]
    },
    {
     "data": {
      "text/html": [
       "<div>\n",
       "<style scoped>\n",
       "    .dataframe tbody tr th:only-of-type {\n",
       "        vertical-align: middle;\n",
       "    }\n",
       "\n",
       "    .dataframe tbody tr th {\n",
       "        vertical-align: top;\n",
       "    }\n",
       "\n",
       "    .dataframe thead th {\n",
       "        text-align: right;\n",
       "    }\n",
       "</style>\n",
       "<table border=\"1\" class=\"dataframe\">\n",
       "  <thead>\n",
       "    <tr style=\"text-align: right;\">\n",
       "      <th></th>\n",
       "      <th>SCHOOL_YEAR</th>\n",
       "      <th>FIPST</th>\n",
       "      <th>STATENAME</th>\n",
       "      <th>ST</th>\n",
       "      <th>SCH_NAME</th>\n",
       "      <th>LEA_NAME</th>\n",
       "      <th>STATE_AGENCY_NO</th>\n",
       "      <th>UNION</th>\n",
       "      <th>ST_LEAID</th>\n",
       "      <th>LEAID</th>\n",
       "      <th>...</th>\n",
       "      <th>G_10_OFFERED</th>\n",
       "      <th>G_11_OFFERED</th>\n",
       "      <th>G_12_OFFERED</th>\n",
       "      <th>G_13_OFFERED</th>\n",
       "      <th>G_UG_OFFERED</th>\n",
       "      <th>G_AE_OFFERED</th>\n",
       "      <th>GSLO</th>\n",
       "      <th>GSHI</th>\n",
       "      <th>LEVEL</th>\n",
       "      <th>IGOFFERED</th>\n",
       "    </tr>\n",
       "  </thead>\n",
       "  <tbody>\n",
       "    <tr>\n",
       "      <th>0</th>\n",
       "      <td>2022-2023</td>\n",
       "      <td>1</td>\n",
       "      <td>ALABAMA</td>\n",
       "      <td>AL</td>\n",
       "      <td>Albertville Middle School</td>\n",
       "      <td>Albertville City</td>\n",
       "      <td>1</td>\n",
       "      <td>NaN</td>\n",
       "      <td>AL-101</td>\n",
       "      <td>100005</td>\n",
       "      <td>...</td>\n",
       "      <td>No</td>\n",
       "      <td>No</td>\n",
       "      <td>No</td>\n",
       "      <td>No</td>\n",
       "      <td>No</td>\n",
       "      <td>No</td>\n",
       "      <td>07</td>\n",
       "      <td>08</td>\n",
       "      <td>Middle</td>\n",
       "      <td>As reported</td>\n",
       "    </tr>\n",
       "    <tr>\n",
       "      <th>1</th>\n",
       "      <td>2022-2023</td>\n",
       "      <td>1</td>\n",
       "      <td>ALABAMA</td>\n",
       "      <td>AL</td>\n",
       "      <td>Albertville High School</td>\n",
       "      <td>Albertville City</td>\n",
       "      <td>1</td>\n",
       "      <td>NaN</td>\n",
       "      <td>AL-101</td>\n",
       "      <td>100005</td>\n",
       "      <td>...</td>\n",
       "      <td>Yes</td>\n",
       "      <td>Yes</td>\n",
       "      <td>Yes</td>\n",
       "      <td>No</td>\n",
       "      <td>No</td>\n",
       "      <td>No</td>\n",
       "      <td>09</td>\n",
       "      <td>12</td>\n",
       "      <td>High</td>\n",
       "      <td>As reported</td>\n",
       "    </tr>\n",
       "    <tr>\n",
       "      <th>2</th>\n",
       "      <td>2022-2023</td>\n",
       "      <td>1</td>\n",
       "      <td>ALABAMA</td>\n",
       "      <td>AL</td>\n",
       "      <td>Albertville Intermediate School</td>\n",
       "      <td>Albertville City</td>\n",
       "      <td>1</td>\n",
       "      <td>NaN</td>\n",
       "      <td>AL-101</td>\n",
       "      <td>100005</td>\n",
       "      <td>...</td>\n",
       "      <td>No</td>\n",
       "      <td>No</td>\n",
       "      <td>No</td>\n",
       "      <td>No</td>\n",
       "      <td>No</td>\n",
       "      <td>No</td>\n",
       "      <td>05</td>\n",
       "      <td>06</td>\n",
       "      <td>Middle</td>\n",
       "      <td>As reported</td>\n",
       "    </tr>\n",
       "    <tr>\n",
       "      <th>3</th>\n",
       "      <td>2022-2023</td>\n",
       "      <td>1</td>\n",
       "      <td>ALABAMA</td>\n",
       "      <td>AL</td>\n",
       "      <td>Albertville Elementary School</td>\n",
       "      <td>Albertville City</td>\n",
       "      <td>1</td>\n",
       "      <td>NaN</td>\n",
       "      <td>AL-101</td>\n",
       "      <td>100005</td>\n",
       "      <td>...</td>\n",
       "      <td>No</td>\n",
       "      <td>No</td>\n",
       "      <td>No</td>\n",
       "      <td>No</td>\n",
       "      <td>No</td>\n",
       "      <td>No</td>\n",
       "      <td>03</td>\n",
       "      <td>04</td>\n",
       "      <td>Elementary</td>\n",
       "      <td>As reported</td>\n",
       "    </tr>\n",
       "    <tr>\n",
       "      <th>4</th>\n",
       "      <td>2022-2023</td>\n",
       "      <td>1</td>\n",
       "      <td>ALABAMA</td>\n",
       "      <td>AL</td>\n",
       "      <td>Albertville Kindergarten and PreK</td>\n",
       "      <td>Albertville City</td>\n",
       "      <td>1</td>\n",
       "      <td>NaN</td>\n",
       "      <td>AL-101</td>\n",
       "      <td>100005</td>\n",
       "      <td>...</td>\n",
       "      <td>No</td>\n",
       "      <td>No</td>\n",
       "      <td>No</td>\n",
       "      <td>No</td>\n",
       "      <td>No</td>\n",
       "      <td>No</td>\n",
       "      <td>PK</td>\n",
       "      <td>KG</td>\n",
       "      <td>Elementary</td>\n",
       "      <td>As reported</td>\n",
       "    </tr>\n",
       "  </tbody>\n",
       "</table>\n",
       "<p>5 rows × 65 columns</p>\n",
       "</div>"
      ],
      "text/plain": [
       "  SCHOOL_YEAR  FIPST STATENAME  ST                           SCH_NAME  \\\n",
       "0   2022-2023      1   ALABAMA  AL          Albertville Middle School   \n",
       "1   2022-2023      1   ALABAMA  AL            Albertville High School   \n",
       "2   2022-2023      1   ALABAMA  AL    Albertville Intermediate School   \n",
       "3   2022-2023      1   ALABAMA  AL      Albertville Elementary School   \n",
       "4   2022-2023      1   ALABAMA  AL  Albertville Kindergarten and PreK   \n",
       "\n",
       "           LEA_NAME  STATE_AGENCY_NO  UNION ST_LEAID   LEAID  ...  \\\n",
       "0  Albertville City                1    NaN   AL-101  100005  ...   \n",
       "1  Albertville City                1    NaN   AL-101  100005  ...   \n",
       "2  Albertville City                1    NaN   AL-101  100005  ...   \n",
       "3  Albertville City                1    NaN   AL-101  100005  ...   \n",
       "4  Albertville City                1    NaN   AL-101  100005  ...   \n",
       "\n",
       "  G_10_OFFERED  G_11_OFFERED  G_12_OFFERED G_13_OFFERED G_UG_OFFERED  \\\n",
       "0           No            No            No           No           No   \n",
       "1          Yes           Yes           Yes           No           No   \n",
       "2           No            No            No           No           No   \n",
       "3           No            No            No           No           No   \n",
       "4           No            No            No           No           No   \n",
       "\n",
       "  G_AE_OFFERED GSLO GSHI       LEVEL    IGOFFERED  \n",
       "0           No   07   08      Middle  As reported  \n",
       "1           No   09   12        High  As reported  \n",
       "2           No   05   06      Middle  As reported  \n",
       "3           No   03   04  Elementary  As reported  \n",
       "4           No   PK   KG  Elementary  As reported  \n",
       "\n",
       "[5 rows x 65 columns]"
      ]
     },
     "execution_count": 8,
     "metadata": {},
     "output_type": "execute_result"
    }
   ],
   "source": [
    "direc = pd.read_csv('data/ccd_sch_029_2223_w_1a_083023.csv')\n",
    "df_direc = pd.DataFrame(direc)\n",
    "df_direc.head()"
   ]
  },
  {
   "cell_type": "code",
   "execution_count": 9,
   "metadata": {},
   "outputs": [
    {
     "name": "stdout",
     "output_type": "stream",
     "text": [
      "['SCHOOL_YEAR' 'FIPST' 'STATENAME' 'ST' 'SCH_NAME' 'LEA_NAME'\n",
      " 'STATE_AGENCY_NO' 'UNION' 'ST_LEAID' 'LEAID' 'ST_SCHID' 'NCESSCH' 'SCHID'\n",
      " 'MSTREET1' 'MSTREET2' 'MSTREET3' 'MCITY' 'MSTATE' 'MZIP' 'MZIP4'\n",
      " 'LSTREET1' 'LSTREET2' 'LSTREET3' 'LCITY' 'LSTATE' 'LZIP' 'LZIP4' 'PHONE'\n",
      " 'WEBSITE' 'SY_STATUS' 'SY_STATUS_TEXT' 'UPDATED_STATUS'\n",
      " 'UPDATED_STATUS_TEXT' 'EFFECTIVE_DATE' 'SCH_TYPE_TEXT' 'SCH_TYPE'\n",
      " 'RECON_STATUS' 'OUT_OF_STATE_FLAG' 'CHARTER_TEXT' 'CHARTAUTH1'\n",
      " 'CHARTAUTHN1' 'CHARTAUTH2' 'CHARTAUTHN2' 'NOGRADES' 'G_PK_OFFERED'\n",
      " 'G_KG_OFFERED' 'G_1_OFFERED' 'G_2_OFFERED' 'G_3_OFFERED' 'G_4_OFFERED'\n",
      " 'G_5_OFFERED' 'G_6_OFFERED' 'G_7_OFFERED' 'G_8_OFFERED' 'G_9_OFFERED'\n",
      " 'G_10_OFFERED' 'G_11_OFFERED' 'G_12_OFFERED' 'G_13_OFFERED'\n",
      " 'G_UG_OFFERED' 'G_AE_OFFERED' 'GSLO' 'GSHI' 'LEVEL' 'IGOFFERED']\n"
     ]
    }
   ],
   "source": [
    "print(df_direc.columns.values)"
   ]
  },
  {
   "cell_type": "code",
   "execution_count": 12,
   "metadata": {},
   "outputs": [
    {
     "name": "stderr",
     "output_type": "stream",
     "text": [
      "[ccd_sch_029_2223_w_1a_083023.sas7bdat] header length 65536 != 8192\n"
     ]
    },
    {
     "name": "stdout",
     "output_type": "stream",
     "text": [
      "  SCHOOL_YEAR FIPST STATENAME  ST                           SCH_NAME  \\\n",
      "0   2022-2023    01   ALABAMA  AL          Albertville Middle School   \n",
      "1   2022-2023    01   ALABAMA  AL            Albertville High School   \n",
      "2   2022-2023    01   ALABAMA  AL    Albertville Intermediate School   \n",
      "3   2022-2023    01   ALABAMA  AL      Albertville Elementary School   \n",
      "4   2022-2023    01   ALABAMA  AL  Albertville Kindergarten and PreK   \n",
      "\n",
      "           LEA_NAME STATE_AGENCY_NO UNION ST_LEAID    LEAID  ... G_10_OFFERED  \\\n",
      "0  Albertville City              01         AL-101  0100005  ...           No   \n",
      "1  Albertville City              01         AL-101  0100005  ...          Yes   \n",
      "2  Albertville City              01         AL-101  0100005  ...           No   \n",
      "3  Albertville City              01         AL-101  0100005  ...           No   \n",
      "4  Albertville City              01         AL-101  0100005  ...           No   \n",
      "\n",
      "  G_11_OFFERED G_12_OFFERED G_13_OFFERED G_UG_OFFERED G_AE_OFFERED GSLO GSHI  \\\n",
      "0           No           No           No           No           No   07   08   \n",
      "1          Yes          Yes           No           No           No   09   12   \n",
      "2           No           No           No           No           No   05   06   \n",
      "3           No           No           No           No           No   03   04   \n",
      "4           No           No           No           No           No   PK   KG   \n",
      "\n",
      "        LEVEL    IGOFFERED  \n",
      "0      Middle  As reported  \n",
      "1        High  As reported  \n",
      "2      Middle  As reported  \n",
      "3  Elementary  As reported  \n",
      "4  Elementary  As reported  \n",
      "\n",
      "[5 rows x 65 columns]\n"
     ]
    }
   ],
   "source": [
    "\n",
    "from sas7bdat import SAS7BDAT\n",
    "with SAS7BDAT('data/ccd_sch_029_2223_w_1a_083023.sas7bdat') as f:\n",
    "    df_bdat = f.to_data_frame()\n",
    "print(df_bdat.head(5))\n"
   ]
  },
  {
   "cell_type": "code",
   "execution_count": 15,
   "metadata": {},
   "outputs": [
    {
     "name": "stdout",
     "output_type": "stream",
     "text": [
      "['SCHOOL_YEAR' 'FIPST' 'STATENAME' 'ST' 'SCH_NAME' 'LEA_NAME'\n",
      " 'STATE_AGENCY_NO' 'UNION' 'ST_LEAID' 'LEAID' 'ST_SCHID' 'NCESSCH' 'SCHID'\n",
      " 'MSTREET1' 'MSTREET2' 'MSTREET3' 'MCITY' 'MSTATE' 'MZIP' 'MZIP4'\n",
      " 'LSTREET1' 'LSTREET2' 'LSTREET3' 'LCITY' 'LSTATE' 'LZIP' 'LZIP4' 'PHONE'\n",
      " 'WEBSITE' 'SY_STATUS' 'SY_STATUS_TEXT' 'UPDATED_STATUS'\n",
      " 'UPDATED_STATUS_TEXT' 'EFFECTIVE_DATE' 'SCH_TYPE_TEXT' 'SCH_TYPE'\n",
      " 'RECON_STATUS' 'OUT_OF_STATE_FLAG' 'CHARTER_TEXT' 'CHARTAUTH1'\n",
      " 'CHARTAUTHN1' 'CHARTAUTH2' 'CHARTAUTHN2' 'NOGRADES' 'G_PK_OFFERED'\n",
      " 'G_KG_OFFERED' 'G_1_OFFERED' 'G_2_OFFERED' 'G_3_OFFERED' 'G_4_OFFERED'\n",
      " 'G_5_OFFERED' 'G_6_OFFERED' 'G_7_OFFERED' 'G_8_OFFERED' 'G_9_OFFERED'\n",
      " 'G_10_OFFERED' 'G_11_OFFERED' 'G_12_OFFERED' 'G_13_OFFERED'\n",
      " 'G_UG_OFFERED' 'G_AE_OFFERED' 'GSLO' 'GSHI' 'LEVEL' 'IGOFFERED']\n"
     ]
    }
   ],
   "source": [
    "print(df_bdat.columns.values)\n",
    "\n"
   ]
  },
  {
   "cell_type": "code",
   "execution_count": null,
   "metadata": {},
   "outputs": [],
   "source": []
  }
 ],
 "metadata": {
  "kernelspec": {
   "display_name": "Python 3 (ipykernel)",
   "language": "python",
   "name": "python3"
  },
  "language_info": {
   "codemirror_mode": {
    "name": "ipython",
    "version": 3
   },
   "file_extension": ".py",
   "mimetype": "text/x-python",
   "name": "python",
   "nbconvert_exporter": "python",
   "pygments_lexer": "ipython3",
   "version": "3.10.7"
  }
 },
 "nbformat": 4,
 "nbformat_minor": 4
}
