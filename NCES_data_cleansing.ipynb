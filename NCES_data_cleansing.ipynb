{
 "cells": [
  {
   "cell_type": "markdown",
   "metadata": {},
   "source": [
    "Importing all necessary modules at the top of the file."
   ]
  },
  {
   "cell_type": "code",
   "execution_count": 2,
   "metadata": {},
   "outputs": [],
   "source": [
    "import pandas as pd\n",
    "from IPython.display import HTML\n",
    "import webbrowser\n",
    "import os"
   ]
  },
  {
   "cell_type": "markdown",
   "metadata": {},
   "source": [
    "The View function is designed to open a new browser window and open the Pandas dataframe as a HTML table, replicating the View function in R Studio. There is custom CSS styling included to provide a straightforward view of the dataFrame."
   ]
  },
  {
   "cell_type": "code",
   "execution_count": 3,
   "metadata": {},
   "outputs": [],
   "source": [
    "def view_sample(df, sample_size):\n",
    "    css = \"\"\"<style>\n",
    "    table { border-collapse: collapse; border: 3px solid #eee; }\n",
    "    table tr th:first-child { background-color: #eeeeee; color: #333; font-weight: bold }\n",
    "    table thead th { background-color: #eee; color: #000; }\n",
    "    tr, th, td { border: 1px solid #ccc; border-width: 1px 0 0 1px; border-collapse: collapse;\n",
    "    padding: 3px; font-family: monospace; font-size: 10px }</style>\n",
    "    \"\"\"\n",
    "    \n",
    "    sample= df.sample(n=sample_size)\n",
    "    html = sample.to_html(escape=False) + css\n",
    "   \n",
    "    path = 'temp.html'\n",
    "    with open(path, 'w') as f:\n",
    "        f.write(html)\n",
    "    \n",
    "    url = 'file://' + os.path.realpath(path) # Used to get the absolute path of the html page we've created\n",
    "    webbrowser.open(url)\n",
    "    \n",
    "def view_all(df):\n",
    "    css = \"\"\"<style>\n",
    "    table { border-collapse: collapse; border: 3px solid #eee; }\n",
    "    table tr th:first-child { background-color: #eeeeee; color: #333; font-weight: bold }\n",
    "    table thead th { background-color: #eee; color: #000; }\n",
    "    tr, th, td { border: 1px solid #ccc; border-width: 1px 0 0 1px; border-collapse: collapse;\n",
    "    padding: 3px; font-family: monospace; font-size: 10px }</style>\n",
    "    \"\"\"\n",
    "    \n",
    "    html = df.to_html(escape=False) + css\n",
    "   \n",
    "    path = 'temp.html'\n",
    "    with open(path, 'w') as f:\n",
    "        f.write(html)\n",
    "    \n",
    "    url = 'file://' + os.path.realpath(path) # Used to get the absolute path of the html page we've created\n",
    "    webbrowser.open(url)"
   ]
  },
  {
   "cell_type": "markdown",
   "metadata": {},
   "source": [
    "We are focusing on the National Center for Educational Studies' public elementary/secondary school universe survey in 2022-2023 and public school CCD geocode dataset. The datasets encaptures an extensive list of information of all the public schools in the United States. The goal is to extract the contact information and geolocation of all elementary and secondary schools across America to be readily accessible for users, ultimately providing the ability to reach out to nearby schools of any location in the US with corresponding email addresses."
   ]
  },
  {
   "cell_type": "markdown",
   "metadata": {},
   "source": [
    "Setting the dataframaes id (info_directory) and gd (geocode_directory)."
   ]
  },
  {
   "cell_type": "code",
   "execution_count": 4,
   "metadata": {},
   "outputs": [],
   "source": [
    "id = pd.read_excel('data/ccd/ccd_public_school_directory.xlsm', engine='openpyxl')\n",
    "gd = pd.read_excel('data/geocodes/public_school_geocodes.xlsx', engine='openpyxl')\n",
    "\n",
    "id_docs_file = pd.ExcelFile('data/ccd/ccd_public_school_directory_companion.xlsx', engine='openpyxl')\n",
    "id_docs = pd.read_excel(id_docs_file, sheet_name='File Layout')"
   ]
  },
  {
   "cell_type": "markdown",
   "metadata": {},
   "source": [
    "We are isolating the variable names and its descriptions to better understand what these representations mean in the public school directories. The variables of interest are\\\n",
    "STATENAME: State name\\\n",
    "SCH_NAME: School name\\\n",
    "ST_SCHID: State school identifier\\\n",
    "NCESSCH: School Identifier (NCES)\\\n",
    "\\\n",
    "MSTREET1: Mailing address street 1\\\n",
    "MCITY: Mailing city\\\n",
    "MSTATE: Mailing state\\\n",
    "MZIP: Mailing 5 digit ZIP code\\\n",
    "LSTREET1: Location address street 1\\\n",
    "LCITY: Location city street 1\\\n",
    "LSTATE: Location state. Two-letter U.S. Postal Service abbreviation\\\n",
    "LZIP: Location 5 digit ZIP code\\\n",
    "\\\n",
    "PHONE: Telephone number\\\n",
    "WEBSITE: The URL for the unique address of a Web Page of an education entity\\\n",
    "SY_STATUS: Start of year status (1-Open, 2-Closed, 3-New, 4-Added, 5-Changed Boundary/Agency, 6-Inactive, 7-Future, 8-Reopened)\\\n",
    "UPDATED_STATUS: Updated Status (1-Open, 2-Closed, 3-New, 4-Added, 5-Changed Boundary/Agency, 6-Inactive, 7-Future, 8-Reopened)\\\n",
    "SCH_TYPE: School type (1-Regular School, 2-Special Education School, 3-Career and Technical School, 4-Alternative Education School)\\\n",
    "Level: School Level (Elementary, High, Other, Middle, Not reported, Not applicable, Ungraded, Adult Education, Prekindergarten, Secondary)\\"
   ]
  },
  {
   "cell_type": "code",
   "execution_count": 5,
   "metadata": {},
   "outputs": [],
   "source": [
    "len_id_docs = len(id_docs.columns)\n",
    "\n",
    "indices_dropped = [0] + list(range(2, 6)) + list(range(7, len_id_docs))\n",
    "clean_id_docs = id_docs.drop(id_docs.columns[indices_dropped], axis = 1)\n",
    "\n",
    "clean_id = id[['STATENAME', 'SCH_NAME', 'ST_SCHID', 'NCESSCH', 'MSTREET1', 'MCITY', 'MSTATE', 'MZIP', 'LSTREET1', 'LCITY', 'LSTATE', 'LZIP', 'PHONE', 'WEBSITE', 'SY_STATUS', 'UPDATED_STATUS', 'SCH_TYPE', 'LEVEL']]"
   ]
  },
  {
   "cell_type": "markdown",
   "metadata": {},
   "source": [
    "Within the gd dataset, the variables of interest are\n",
    "\n",
    "NCESSCH: School identification number\\\n",
    "LAT: Latitude\\\n",
    "LON: Longitude\\\n",
    "CBSA: Core Based Statistical Area\\\n",
    "NMCBSA: Core Based Statistical Area Name\\\n",
    "CSA: Combined Statistical Area\\\n",
    "NMCSA: Combined Statistical Area Name"
   ]
  },
  {
   "cell_type": "code",
   "execution_count": 6,
   "metadata": {},
   "outputs": [],
   "source": [
    "len_gd = len(gd.columns)\n",
    "\n",
    "indices_dropped = list(range(1, 11)) + [15] + list(range(18, len_gd))\n",
    "clean_gd = gd[['NCESSCH', 'LAT', 'LON', 'CBSA', 'NMCBSA', 'CSA', 'NMCSA']]"
   ]
  },
  {
   "cell_type": "markdown",
   "metadata": {},
   "source": [
    "**Some considerations we want to think about**:\n",
    "\n",
    "Do we want to also include variables that group schools together?\\\n",
    "For example, variables like LEAID, LEA_NAME, NMCSA, NMCBSA, CNTY, NMCNT group schools together through districts, counties, towns, etc. \n",
    "- These variables might be useful when optimizing the time complexity of returning the school email addresses based on time complexity"
   ]
  },
  {
   "cell_type": "markdown",
   "metadata": {},
   "source": [
    "We are checking if the gd and id have the same number of schools in the dataset. They both have 102,268 rows, alluding that the dataset contains the same exact schools. This identicalness is perfect to join the datsets together for the most helpful variables to join together."
   ]
  },
  {
   "cell_type": "code",
   "execution_count": 7,
   "metadata": {},
   "outputs": [
    {
     "name": "stdout",
     "output_type": "stream",
     "text": [
      "102268\n",
      "102268\n"
     ]
    }
   ],
   "source": [
    "print(len(gd))\n",
    "print(len(id))"
   ]
  },
  {
   "cell_type": "markdown",
   "metadata": {},
   "source": [
    "We have created a combined dataset containing both school and gecode information, which is necessary to find their email addresses and specific locations relative to the uesr's whereabouts."
   ]
  },
  {
   "cell_type": "code",
   "execution_count": 9,
   "metadata": {},
   "outputs": [
    {
     "name": "stdout",
     "output_type": "stream",
     "text": [
      "102268\n"
     ]
    }
   ],
   "source": [
    "combined_df = pd.merge(clean_id, clean_gd, on='NCESSCH', how='inner')\n",
    "print(len(combined_df))\n",
    "\n",
    "combined_df.to_csv('schools_information_dataset.csv', index=False)"
   ]
  }
 ],
 "metadata": {
  "kernelspec": {
   "display_name": "Python (C4C_ASOS)",
   "language": "python",
   "name": "c4c_asos"
  },
  "language_info": {
   "codemirror_mode": {
    "name": "ipython",
    "version": 3
   },
   "file_extension": ".py",
   "mimetype": "text/x-python",
   "name": "python",
   "nbconvert_exporter": "python",
   "pygments_lexer": "ipython3",
   "version": "3.12.3"
  }
 },
 "nbformat": 4,
 "nbformat_minor": 4
}
