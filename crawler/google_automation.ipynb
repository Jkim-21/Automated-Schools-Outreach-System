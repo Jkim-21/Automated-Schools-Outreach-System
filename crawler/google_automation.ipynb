{
 "cells": [
  {
   "cell_type": "code",
   "execution_count": 5,
   "metadata": {},
   "outputs": [],
   "source": [
    "from selenium import webdriver # Main driver for browser automation\n",
    "from selenium.webdriver.common.keys import Keys # Selenium WebDriver, used to control the browser\n",
    "from selenium.webdriver.common.by import By # Module to locate elements on the page\n",
    "from selenium.webdriver.chrome.service import Service # Module to manage browser drivers as a service\n",
    "from webdriver_manager.chrome import ChromeDriverManager # Utility to automatically download and manage the ChromeDriver binary\n",
    "import time # Module to add delays, useful for page loads and simulate human interactions\n",
    "\n",
    "schools = [\n",
    "    \"Belmont High School website\",\n",
    "    \"Lexington High School website\",\n",
    "    \"Winchester High School website\"\n",
    "]\n",
    "\n",
    "chrome_service = Service(ChromeDriverManager().install())\n",
    "driver = webdriver.Chrome(service=chrome_service)\n",
    "\n",
    "\n",
    "for school in schools:\n",
    "    google_url = \"https://www.google.com\"\n",
    "    driver.get(google_url)\n",
    "\n",
    "    search_box = driver.find_element(By.NAME, \"q\")\n",
    "    search_box.send_keys(school)\n",
    "    search_box.send_keys(Keys.RETURN)\n",
    "    \n",
    "    links = driver.find_elements(By.XPATH, \"//div[@class='r']/a[1]\")\n",
    "    for link in links:\n",
    "        url = link.get_attribute(\"href\")\n",
    "        print(f\"{school}: {url}\")\n",
    "\n",
    "driver.quit()"
   ]
  },
  {
   "cell_type": "code",
   "execution_count": null,
   "metadata": {},
   "outputs": [],
   "source": []
  }
 ],
 "metadata": {
  "kernelspec": {
   "display_name": "C4C_ASOS",
   "language": "python",
   "name": "c4c_asos"
  },
  "language_info": {
   "codemirror_mode": {
    "name": "ipython",
    "version": 3
   },
   "file_extension": ".py",
   "mimetype": "text/x-python",
   "name": "python",
   "nbconvert_exporter": "python",
   "pygments_lexer": "ipython3",
   "version": "3.12.3"
  }
 },
 "nbformat": 4,
 "nbformat_minor": 2
}
