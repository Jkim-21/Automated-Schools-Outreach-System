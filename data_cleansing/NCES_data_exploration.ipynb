{
 "cells": [
  {
   "cell_type": "code",
   "execution_count": 1,
   "metadata": {},
   "outputs": [],
   "source": [
    "import pandas as pd\n",
    "import webbrowser\n",
    "import os"
   ]
  },
  {
   "cell_type": "markdown",
   "metadata": {},
   "source": [
    "The View function is designed to open a new browser window and open the Pandas dataframe as a HTML table, replicating the View function in R Studio. There is custom CSS styling included to provide a straightforward view of the dataFrame."
   ]
  },
  {
   "cell_type": "code",
   "execution_count": 4,
   "metadata": {},
   "outputs": [],
   "source": [
    "def view_sample(df, sample_size):\n",
    "    css = \"\"\"<style>\n",
    "    table { border-collapse: collapse; border: 3px solid #eee; }\n",
    "    table tr th:first-child { background-color: #eeeeee; color: #333; font-weight: bold }\n",
    "    table thead th { background-color: #eee; color: #000; }\n",
    "    tr, th, td { border: 1px solid #ccc; border-width: 1px 0 0 1px; border-collapse: collapse;\n",
    "    padding: 3px; font-family: monospace; font-size: 10px }</style>\n",
    "    \"\"\"\n",
    "    \n",
    "    sample= df.sample(n=sample_size)\n",
    "    html = sample.to_html(escape=False) + css\n",
    "   \n",
    "    path = 'temp.html'\n",
    "    with open(path, 'w') as f:\n",
    "        f.write(html)\n",
    "    \n",
    "    url = 'file://' + os.path.realpath(path) # Used to get the absolute path of the html page we've created\n",
    "    webbrowser.open(url)\n",
    "    \n",
    "def view_all(df):\n",
    "    css = \"\"\"<style>\n",
    "    table { border-collapse: collapse; border: 3px solid #eee; }\n",
    "    table tr th:first-child { background-color: #eeeeee; color: #333; font-weight: bold }\n",
    "    table thead th { background-color: #eee; color: #000; }\n",
    "    tr, th, td { border: 1px solid #ccc; border-width: 1px 0 0 1px; border-collapse: collapse;\n",
    "    padding: 3px; font-family: monospace; font-size: 10px }</style>\n",
    "    \"\"\"\n",
    "    \n",
    "    html = df.to_html(escape=False) + css\n",
    "   \n",
    "    path = 'temp.html'\n",
    "    with open(path, 'w') as f:\n",
    "        f.write(html)\n",
    "    \n",
    "    url = 'file://' + os.path.realpath(path) # Used to get the absolute path of the html page we've created\n",
    "    webbrowser.open(url)"
   ]
  },
  {
   "cell_type": "markdown",
   "metadata": {},
   "source": [
    "We are focusing on the National Center for Educational Studies' public elementary/secondary school universe survey in 2022-2023 and public school CCD geocode dataset. The datasets encaptures an extensive list of information of all the public schools in the United States. The goal is to extract the contact information and geolocation of all elementary and secondary schools across America to be readily accessible for users, ultimately providing the ability to reach out to nearby schools of any location in the US with corresponding email addresses."
   ]
  },
  {
   "cell_type": "code",
   "execution_count": 7,
   "metadata": {},
   "outputs": [],
   "source": [
    "ccd = pd.read_excel('../data/ccd/ccd_public_school_directory.xlsm', engine='openpyxl')\n",
    "gd = pd.read_excel('../data/geocodes/public_school_geocodes.xlsx', engine='openpyxl')\n",
    "\n",
    "ccd_docs_file = pd.ExcelFile('../data/ccd/ccd_public_school_directory_companion.xlsx', engine='openpyxl')\n",
    "ccd_docs = pd.read_excel(ccd_docs_file, sheet_name='File Layout')\n",
    "\n",
    "clean_ccd = pd.read_csv('../data/clean_datasets/clean_ccd.csv')\n",
    "clean_ccd_docs = pd.read_csv('../data/clean_datasets/clean_ccd_docs.csv')\n",
    "clean_gd = pd.read_csv('../data/clean_datasets/clean_gd.csv')\n",
    "schools_information = pd.read_csv('../data/clean_datasets/schools_information.csv')\n"
   ]
  },
  {
   "cell_type": "markdown",
   "metadata": {},
   "source": [
    "We are checking if the gd and id have the same number of schools in the dataset. They both have 102,268 rows, alluding that the dataset contains the same exact schools. This identicalness is perfect to join the datsets together for the most helpful variables to join together."
   ]
  },
  {
   "cell_type": "code",
   "execution_count": null,
   "metadata": {},
   "outputs": [],
   "source": [
    "print(len(gd))\n",
    "print(len(ccd))"
   ]
  },
  {
   "cell_type": "markdown",
   "metadata": {},
   "source": [
    "91.1% of open schools are regular schools, while alternate schools (5.3%), special education schools (1.9%), and career & technical schools (1.6%) make up the rest of the school population."
   ]
  },
  {
   "cell_type": "code",
   "execution_count": 18,
   "metadata": {},
   "outputs": [
    {
     "name": "stdout",
     "output_type": "stream",
     "text": [
      "Counts of each school type:\n",
      " SCH_TYPE_TEXT\n",
      "Regular School                 91716\n",
      "Alternative School              5353\n",
      "Special Education School        1897\n",
      "Career and Technical School     1605\n",
      "Name: count, dtype: int64\n",
      "\n",
      "Proportions of each school type:\n",
      " SCH_TYPE_TEXT\n",
      "Regular School                 0.911953\n",
      "Alternative School             0.053226\n",
      "Special Education School       0.018862\n",
      "Career and Technical School    0.015959\n",
      "Name: count, dtype: float64\n"
     ]
    }
   ],
   "source": [
    "\n",
    "school_type_counts = schools_information['SCH_TYPE_TEXT'].value_counts()\n",
    "school_type_proportions = school_type_counts / school_type_counts.sum()\n",
    "\n",
    "print(\"Counts of each school type:\\n\", school_type_counts)\n",
    "print(\"\\nProportions of each school type:\\n\", school_type_proportions)"
   ]
  },
  {
   "cell_type": "markdown",
   "metadata": {},
   "source": [
    "The overwhelming majority of open schools are regular schools (90869), which may be the most easily accessible audience compared to other types of schools. In second are alternative schools (5233), then special education schools (1848), and finally career and technical schools (1578)."
   ]
  },
  {
   "cell_type": "code",
   "execution_count": 32,
   "metadata": {},
   "outputs": [
    {
     "name": "stdout",
     "output_type": "stream",
     "text": [
      "        UPDATED_STATUS_TEXT                SCH_TYPE_TEXT  counts  proportion\n",
      "5   Changed Boundary/Agency  Career and Technical School       3    0.000030\n",
      "1                     Added  Career and Technical School       4    0.000040\n",
      "4   Changed Boundary/Agency           Alternative School       4    0.000040\n",
      "15                 Reopened           Alternative School       7    0.000070\n",
      "3                     Added     Special Education School       8    0.000080\n",
      "16                 Reopened               Regular School      15    0.000149\n",
      "0                     Added           Alternative School      16    0.000159\n",
      "8                       New  Career and Technical School      20    0.000199\n",
      "10                      New     Special Education School      41    0.000408\n",
      "2                     Added               Regular School      46    0.000457\n",
      "6   Changed Boundary/Agency               Regular School      50    0.000497\n",
      "7                       New           Alternative School      93    0.000925\n",
      "9                       New               Regular School     736    0.007318\n",
      "12                     Open  Career and Technical School    1578    0.015690\n",
      "14                     Open     Special Education School    1848    0.018375\n",
      "11                     Open           Alternative School    5233    0.052033\n",
      "13                     Open               Regular School   90869    0.903531\n"
     ]
    }
   ],
   "source": [
    "school_type_status = schools_information.groupby(['UPDATED_STATUS_TEXT', 'SCH_TYPE_TEXT'])\n",
    "\n",
    "school_type_status = school_type_status.size().reset_index(name='counts')\n",
    "\n",
    "school_type_status['proportion'] = school_type_status['counts'] / school_type_status['counts'].sum()\n",
    "school_type_status = school_type_status.sort_values(by = 'proportion')\n",
    "\n",
    "print(school_type_status)"
   ]
  },
  {
   "cell_type": "code",
   "execution_count": null,
   "metadata": {},
   "outputs": [],
   "source": []
  },
  {
   "cell_type": "code",
   "execution_count": null,
   "metadata": {},
   "outputs": [],
   "source": []
  }
 ],
 "metadata": {
  "kernelspec": {
   "display_name": "C4C_ASOS",
   "language": "python",
   "name": "c4c_asos"
  },
  "language_info": {
   "codemirror_mode": {
    "name": "ipython",
    "version": 3
   },
   "file_extension": ".py",
   "mimetype": "text/x-python",
   "name": "python",
   "nbconvert_exporter": "python",
   "pygments_lexer": "ipython3",
   "version": "3.12.3"
  }
 },
 "nbformat": 4,
 "nbformat_minor": 2
}
